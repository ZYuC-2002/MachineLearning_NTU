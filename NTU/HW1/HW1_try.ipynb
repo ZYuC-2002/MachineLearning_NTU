{
 "cells": [
  {
   "cell_type": "code",
   "execution_count": 1,
   "metadata": {},
   "outputs": [],
   "source": [
    "import torch\n",
    "import torch.nn as nn\n",
    "from torch.utils.data import Dataset, DataLoader\n",
    "from torch.utils.data.sampler import SubsetRandomSampler\n",
    "\n",
    "import numpy as np\n",
    "import csv\n",
    "\n",
    "import matplotlib.pyplot as plt"
   ]
  },
  {
   "cell_type": "code",
   "execution_count": 14,
   "metadata": {},
   "outputs": [
    {
     "name": "stdout",
     "output_type": "stream",
     "text": [
      "tensor([[ 1.0000,  0.0000,  0.0000,  ..., 53.9915, 43.6042, 20.7049],\n",
      "        [ 1.0000,  0.0000,  0.0000,  ..., 54.1855, 42.6658, 21.2929],\n",
      "        [ 1.0000,  0.0000,  0.0000,  ..., 53.6371, 42.9724, 21.1667],\n",
      "        ...,\n",
      "        [ 0.0000,  0.0000,  0.0000,  ..., 67.7312, 38.7407, 12.6134],\n",
      "        [ 0.0000,  0.0000,  0.0000,  ..., 67.7951, 38.5951, 12.4772],\n",
      "        [ 0.0000,  0.0000,  0.0000,  ..., 68.2841, 38.4538, 11.8117]],\n",
      "       dtype=torch.float64)\n"
     ]
    }
   ],
   "source": [
    "from numpy import genfromtxt\n",
    "\n",
    "class COVID19dataset(Dataset):\n",
    "    def __init__(self):\n",
    "        xy = genfromtxt('covid.train.csv', delimiter = ',')  # type:nparray\n",
    "        xy = torch.from_numpy(xy[1:, 1:])\n",
    "\n",
    "        self.x = xy[]"
   ]
  },
  {
   "cell_type": "code",
   "execution_count": 15,
   "metadata": {},
   "outputs": [
    {
     "name": "stdout",
     "output_type": "stream",
     "text": [
      "[[ 1.         0.         0.        ...  0.        19.586492  20.1518381]\n",
      " [ 1.         0.         0.        ...  0.        20.1518381 20.7049346]\n",
      " [ 1.         0.         0.        ...  0.        20.7049346 21.2929114]\n",
      " ...\n",
      " [ 0.         0.         0.        ...  1.        13.0088534 12.7256383]\n",
      " [ 0.         0.         0.        ...  1.        12.7256383 12.6134414]\n",
      " [ 0.         0.         0.        ...  1.        12.6134414 12.4772268]]\n"
     ]
    }
   ],
   "source": [
    "data = []\n",
    "with open('covid.train.csv', 'r') as fp:\n",
    "    data = list(csv.reader(fp))\n",
    "    data = np.array(data[1:])[:, 1:].astype(float)\n",
    "    # print(data)\n",
    "\n",
    "feats = list(range(40))\n",
    "feats.append(57)\n",
    "feats.append(75)\n",
    "\n",
    "target = data[:, -1]  # target: 除了第三天的結果\n",
    "data = data[:, feats]  # data: 40種狀態 + 第一、二天的結果\n",
    "# print(data)"
   ]
  }
 ],
 "metadata": {
  "kernelspec": {
   "display_name": "Python 3",
   "language": "python",
   "name": "python3"
  },
  "language_info": {
   "codemirror_mode": {
    "name": "ipython",
    "version": 3
   },
   "file_extension": ".py",
   "mimetype": "text/x-python",
   "name": "python",
   "nbconvert_exporter": "python",
   "pygments_lexer": "ipython3",
   "version": "3.11.4"
  },
  "orig_nbformat": 4
 },
 "nbformat": 4,
 "nbformat_minor": 2
}
